{
  "nbformat": 4,
  "nbformat_minor": 0,
  "metadata": {
    "colab": {
      "provenance": [],
      "authorship_tag": "ABX9TyNrj9OavBgs6UxDkl14+lDl",
      "include_colab_link": true
    },
    "kernelspec": {
      "name": "python3",
      "display_name": "Python 3"
    },
    "language_info": {
      "name": "python"
    }
  },
  "cells": [
    {
      "cell_type": "markdown",
      "metadata": {
        "id": "view-in-github",
        "colab_type": "text"
      },
      "source": [
        "<a href=\"https://colab.research.google.com/github/seungmei/QNS/blob/main/%ED%94%84%EB%A1%9C%EA%B7%B8%EB%9E%98%EB%B0%8D%EC%9C%BC%EB%A1%9C_%EB%B0%B0%EC%9A%B0%EB%8A%94_%EC%96%91%EC%9E%90%EC%BB%B4%ED%93%A8%ED%8C%85_4%EC%9E%A5.ipynb\" target=\"_parent\"><img src=\"https://colab.research.google.com/assets/colab-badge.svg\" alt=\"Open In Colab\"/></a>"
      ]
    },
    {
      "cell_type": "code",
      "execution_count": 1,
      "metadata": {
        "colab": {
          "base_uri": "https://localhost:8080/"
        },
        "id": "SYq7QkapDqia",
        "outputId": "f464f0d7-ff3a-4b4e-9607-14f5b4aae91e"
      },
      "outputs": [
        {
          "output_type": "stream",
          "name": "stdout",
          "text": [
            "Collecting qiskit\n",
            "  Downloading qiskit-2.0.0-cp39-abi3-manylinux_2_17_x86_64.manylinux2014_x86_64.whl.metadata (12 kB)\n",
            "Collecting qiskit-ibm-runtime\n",
            "  Downloading qiskit_ibm_runtime-0.38.0-py3-none-any.whl.metadata (21 kB)\n",
            "Collecting qiskit_aer\n",
            "  Downloading qiskit_aer-0.17.0-cp311-cp311-manylinux_2_17_x86_64.manylinux2014_x86_64.whl.metadata (8.2 kB)\n",
            "Collecting pylatexenc\n",
            "  Downloading pylatexenc-2.10.tar.gz (162 kB)\n",
            "\u001b[2K     \u001b[90m━━━━━━━━━━━━━━━━━━━━━━━━━━━━━━━━━━━━━━━\u001b[0m \u001b[32m162.6/162.6 kB\u001b[0m \u001b[31m4.0 MB/s\u001b[0m eta \u001b[36m0:00:00\u001b[0m\n",
            "\u001b[?25h  Preparing metadata (setup.py) ... \u001b[?25l\u001b[?25hdone\n",
            "Collecting rustworkx>=0.15.0 (from qiskit)\n",
            "  Downloading rustworkx-0.16.0-cp39-abi3-manylinux_2_17_x86_64.manylinux2014_x86_64.whl.metadata (10 kB)\n",
            "Requirement already satisfied: numpy<3,>=1.17 in /usr/local/lib/python3.11/dist-packages (from qiskit) (2.0.2)\n",
            "Requirement already satisfied: scipy>=1.5 in /usr/local/lib/python3.11/dist-packages (from qiskit) (1.15.2)\n",
            "Requirement already satisfied: sympy>=1.3 in /usr/local/lib/python3.11/dist-packages (from qiskit) (1.13.1)\n",
            "Collecting dill>=0.3 (from qiskit)\n",
            "  Downloading dill-0.4.0-py3-none-any.whl.metadata (10 kB)\n",
            "Requirement already satisfied: python-dateutil>=2.8.0 in /usr/local/lib/python3.11/dist-packages (from qiskit) (2.9.0.post0)\n",
            "Collecting stevedore>=3.0.0 (from qiskit)\n",
            "  Downloading stevedore-5.4.1-py3-none-any.whl.metadata (2.3 kB)\n",
            "Requirement already satisfied: typing-extensions in /usr/local/lib/python3.11/dist-packages (from qiskit) (4.13.2)\n",
            "Collecting symengine<0.14,>=0.11 (from qiskit)\n",
            "  Downloading symengine-0.13.0-cp311-cp311-manylinux_2_17_x86_64.manylinux2014_x86_64.whl.metadata (1.2 kB)\n",
            "Requirement already satisfied: requests>=2.19 in /usr/local/lib/python3.11/dist-packages (from qiskit-ibm-runtime) (2.32.3)\n",
            "Collecting requests-ntlm>=1.1.0 (from qiskit-ibm-runtime)\n",
            "  Downloading requests_ntlm-1.3.0-py3-none-any.whl.metadata (2.4 kB)\n",
            "Requirement already satisfied: urllib3>=1.21.1 in /usr/local/lib/python3.11/dist-packages (from qiskit-ibm-runtime) (2.4.0)\n",
            "Collecting ibm-platform-services>=0.22.6 (from qiskit-ibm-runtime)\n",
            "  Downloading ibm_platform_services-0.65.0-py3-none-any.whl.metadata (9.0 kB)\n",
            "Collecting pydantic<2.10,>=2.5.0 (from qiskit-ibm-runtime)\n",
            "  Downloading pydantic-2.9.2-py3-none-any.whl.metadata (149 kB)\n",
            "\u001b[2K     \u001b[90m━━━━━━━━━━━━━━━━━━━━━━━━━━━━━━━━━━━━━━━\u001b[0m \u001b[32m149.4/149.4 kB\u001b[0m \u001b[31m5.5 MB/s\u001b[0m eta \u001b[36m0:00:00\u001b[0m\n",
            "\u001b[?25hRequirement already satisfied: packaging in /usr/local/lib/python3.11/dist-packages (from qiskit-ibm-runtime) (24.2)\n",
            "Requirement already satisfied: psutil>=5 in /usr/local/lib/python3.11/dist-packages (from qiskit_aer) (5.9.5)\n",
            "Collecting ibm_cloud_sdk_core<4.0.0,>=3.22.1 (from ibm-platform-services>=0.22.6->qiskit-ibm-runtime)\n",
            "  Downloading ibm_cloud_sdk_core-3.23.0-py3-none-any.whl.metadata (8.7 kB)\n",
            "Requirement already satisfied: annotated-types>=0.6.0 in /usr/local/lib/python3.11/dist-packages (from pydantic<2.10,>=2.5.0->qiskit-ibm-runtime) (0.7.0)\n",
            "Collecting pydantic-core==2.23.4 (from pydantic<2.10,>=2.5.0->qiskit-ibm-runtime)\n",
            "  Downloading pydantic_core-2.23.4-cp311-cp311-manylinux_2_17_x86_64.manylinux2014_x86_64.whl.metadata (6.6 kB)\n",
            "Requirement already satisfied: six>=1.5 in /usr/local/lib/python3.11/dist-packages (from python-dateutil>=2.8.0->qiskit) (1.17.0)\n",
            "Requirement already satisfied: charset-normalizer<4,>=2 in /usr/local/lib/python3.11/dist-packages (from requests>=2.19->qiskit-ibm-runtime) (3.4.1)\n",
            "Requirement already satisfied: idna<4,>=2.5 in /usr/local/lib/python3.11/dist-packages (from requests>=2.19->qiskit-ibm-runtime) (3.10)\n",
            "Requirement already satisfied: certifi>=2017.4.17 in /usr/local/lib/python3.11/dist-packages (from requests>=2.19->qiskit-ibm-runtime) (2025.4.26)\n",
            "Requirement already satisfied: cryptography>=1.3 in /usr/local/lib/python3.11/dist-packages (from requests-ntlm>=1.1.0->qiskit-ibm-runtime) (43.0.3)\n",
            "Collecting pyspnego>=0.4.0 (from requests-ntlm>=1.1.0->qiskit-ibm-runtime)\n",
            "  Downloading pyspnego-0.11.2-py3-none-any.whl.metadata (5.4 kB)\n",
            "Collecting pbr>=2.0.0 (from stevedore>=3.0.0->qiskit)\n",
            "  Downloading pbr-6.1.1-py2.py3-none-any.whl.metadata (3.4 kB)\n",
            "Requirement already satisfied: mpmath<1.4,>=1.1.0 in /usr/local/lib/python3.11/dist-packages (from sympy>=1.3->qiskit) (1.3.0)\n",
            "Requirement already satisfied: cffi>=1.12 in /usr/local/lib/python3.11/dist-packages (from cryptography>=1.3->requests-ntlm>=1.1.0->qiskit-ibm-runtime) (1.17.1)\n",
            "Requirement already satisfied: PyJWT<3.0.0,>=2.8.0 in /usr/local/lib/python3.11/dist-packages (from ibm_cloud_sdk_core<4.0.0,>=3.22.1->ibm-platform-services>=0.22.6->qiskit-ibm-runtime) (2.10.1)\n",
            "Requirement already satisfied: setuptools in /usr/local/lib/python3.11/dist-packages (from pbr>=2.0.0->stevedore>=3.0.0->qiskit) (75.2.0)\n",
            "Requirement already satisfied: pycparser in /usr/local/lib/python3.11/dist-packages (from cffi>=1.12->cryptography>=1.3->requests-ntlm>=1.1.0->qiskit-ibm-runtime) (2.22)\n",
            "Downloading qiskit-2.0.0-cp39-abi3-manylinux_2_17_x86_64.manylinux2014_x86_64.whl (6.5 MB)\n",
            "\u001b[2K   \u001b[90m━━━━━━━━━━━━━━━━━━━━━━━━━━━━━━━━━━━━━━━━\u001b[0m \u001b[32m6.5/6.5 MB\u001b[0m \u001b[31m34.1 MB/s\u001b[0m eta \u001b[36m0:00:00\u001b[0m\n",
            "\u001b[?25hDownloading qiskit_ibm_runtime-0.38.0-py3-none-any.whl (3.2 MB)\n",
            "\u001b[2K   \u001b[90m━━━━━━━━━━━━━━━━━━━━━━━━━━━━━━━━━━━━━━━━\u001b[0m \u001b[32m3.2/3.2 MB\u001b[0m \u001b[31m29.1 MB/s\u001b[0m eta \u001b[36m0:00:00\u001b[0m\n",
            "\u001b[?25hDownloading qiskit_aer-0.17.0-cp311-cp311-manylinux_2_17_x86_64.manylinux2014_x86_64.whl (12.4 MB)\n",
            "\u001b[2K   \u001b[90m━━━━━━━━━━━━━━━━━━━━━━━━━━━━━━━━━━━━━━━━\u001b[0m \u001b[32m12.4/12.4 MB\u001b[0m \u001b[31m26.4 MB/s\u001b[0m eta \u001b[36m0:00:00\u001b[0m\n",
            "\u001b[?25hDownloading dill-0.4.0-py3-none-any.whl (119 kB)\n",
            "\u001b[2K   \u001b[90m━━━━━━━━━━━━━━━━━━━━━━━━━━━━━━━━━━━━━━━━\u001b[0m \u001b[32m119.7/119.7 kB\u001b[0m \u001b[31m7.9 MB/s\u001b[0m eta \u001b[36m0:00:00\u001b[0m\n",
            "\u001b[?25hDownloading ibm_platform_services-0.65.0-py3-none-any.whl (359 kB)\n",
            "\u001b[2K   \u001b[90m━━━━━━━━━━━━━━━━━━━━━━━━━━━━━━━━━━━━━━━━\u001b[0m \u001b[32m359.9/359.9 kB\u001b[0m \u001b[31m11.7 MB/s\u001b[0m eta \u001b[36m0:00:00\u001b[0m\n",
            "\u001b[?25hDownloading pydantic-2.9.2-py3-none-any.whl (434 kB)\n",
            "\u001b[2K   \u001b[90m━━━━━━━━━━━━━━━━━━━━━━━━━━━━━━━━━━━━━━━━\u001b[0m \u001b[32m434.9/434.9 kB\u001b[0m \u001b[31m23.4 MB/s\u001b[0m eta \u001b[36m0:00:00\u001b[0m\n",
            "\u001b[?25hDownloading pydantic_core-2.23.4-cp311-cp311-manylinux_2_17_x86_64.manylinux2014_x86_64.whl (2.1 MB)\n",
            "\u001b[2K   \u001b[90m━━━━━━━━━━━━━━━━━━━━━━━━━━━━━━━━━━━━━━━━\u001b[0m \u001b[32m2.1/2.1 MB\u001b[0m \u001b[31m54.4 MB/s\u001b[0m eta \u001b[36m0:00:00\u001b[0m\n",
            "\u001b[?25hDownloading requests_ntlm-1.3.0-py3-none-any.whl (6.6 kB)\n",
            "Downloading rustworkx-0.16.0-cp39-abi3-manylinux_2_17_x86_64.manylinux2014_x86_64.whl (2.1 MB)\n",
            "\u001b[2K   \u001b[90m━━━━━━━━━━━━━━━━━━━━━━━━━━━━━━━━━━━━━━━━\u001b[0m \u001b[32m2.1/2.1 MB\u001b[0m \u001b[31m60.3 MB/s\u001b[0m eta \u001b[36m0:00:00\u001b[0m\n",
            "\u001b[?25hDownloading stevedore-5.4.1-py3-none-any.whl (49 kB)\n",
            "\u001b[2K   \u001b[90m━━━━━━━━━━━━━━━━━━━━━━━━━━━━━━━━━━━━━━━━\u001b[0m \u001b[32m49.5/49.5 kB\u001b[0m \u001b[31m2.8 MB/s\u001b[0m eta \u001b[36m0:00:00\u001b[0m\n",
            "\u001b[?25hDownloading symengine-0.13.0-cp311-cp311-manylinux_2_17_x86_64.manylinux2014_x86_64.whl (49.7 MB)\n",
            "\u001b[2K   \u001b[90m━━━━━━━━━━━━━━━━━━━━━━━━━━━━━━━━━━━━━━━━\u001b[0m \u001b[32m49.7/49.7 MB\u001b[0m \u001b[31m14.6 MB/s\u001b[0m eta \u001b[36m0:00:00\u001b[0m\n",
            "\u001b[?25hDownloading ibm_cloud_sdk_core-3.23.0-py3-none-any.whl (69 kB)\n",
            "\u001b[2K   \u001b[90m━━━━━━━━━━━━━━━━━━━━━━━━━━━━━━━━━━━━━━━━\u001b[0m \u001b[32m69.5/69.5 kB\u001b[0m \u001b[31m3.5 MB/s\u001b[0m eta \u001b[36m0:00:00\u001b[0m\n",
            "\u001b[?25hDownloading pbr-6.1.1-py2.py3-none-any.whl (108 kB)\n",
            "\u001b[2K   \u001b[90m━━━━━━━━━━━━━━━━━━━━━━━━━━━━━━━━━━━━━━━━\u001b[0m \u001b[32m109.0/109.0 kB\u001b[0m \u001b[31m6.9 MB/s\u001b[0m eta \u001b[36m0:00:00\u001b[0m\n",
            "\u001b[?25hDownloading pyspnego-0.11.2-py3-none-any.whl (130 kB)\n",
            "\u001b[2K   \u001b[90m━━━━━━━━━━━━━━━━━━━━━━━━━━━━━━━━━━━━━━━━\u001b[0m \u001b[32m130.5/130.5 kB\u001b[0m \u001b[31m6.1 MB/s\u001b[0m eta \u001b[36m0:00:00\u001b[0m\n",
            "\u001b[?25hBuilding wheels for collected packages: pylatexenc\n",
            "  Building wheel for pylatexenc (setup.py) ... \u001b[?25l\u001b[?25hdone\n",
            "  Created wheel for pylatexenc: filename=pylatexenc-2.10-py3-none-any.whl size=136817 sha256=ca431ee19f0b9e3bf8fd7be26efaec27d3ac5b64d66c94b654f5735a9509a3a6\n",
            "  Stored in directory: /root/.cache/pip/wheels/b1/7a/33/9fdd892f784ed4afda62b685ae3703adf4c91aa0f524c28f03\n",
            "Successfully built pylatexenc\n",
            "Installing collected packages: pylatexenc, symengine, rustworkx, pydantic-core, pbr, dill, stevedore, pydantic, ibm_cloud_sdk_core, qiskit, pyspnego, ibm-platform-services, requests-ntlm, qiskit_aer, qiskit-ibm-runtime\n",
            "  Attempting uninstall: pydantic-core\n",
            "    Found existing installation: pydantic_core 2.33.2\n",
            "    Uninstalling pydantic_core-2.33.2:\n",
            "      Successfully uninstalled pydantic_core-2.33.2\n",
            "  Attempting uninstall: pydantic\n",
            "    Found existing installation: pydantic 2.11.4\n",
            "    Uninstalling pydantic-2.11.4:\n",
            "      Successfully uninstalled pydantic-2.11.4\n",
            "Successfully installed dill-0.4.0 ibm-platform-services-0.65.0 ibm_cloud_sdk_core-3.23.0 pbr-6.1.1 pydantic-2.9.2 pydantic-core-2.23.4 pylatexenc-2.10 pyspnego-0.11.2 qiskit-2.0.0 qiskit-ibm-runtime-0.38.0 qiskit_aer-0.17.0 requests-ntlm-1.3.0 rustworkx-0.16.0 stevedore-5.4.1 symengine-0.13.0\n"
          ]
        }
      ],
      "source": [
        "!pip install qiskit qiskit-ibm-runtime qiskit_aer pylatexenc"
      ]
    },
    {
      "cell_type": "markdown",
      "source": [
        "# 4. 기본 양자 알고리즘"
      ],
      "metadata": {
        "id": "1ff4MgJTDv9O"
      }
    },
    {
      "cell_type": "markdown",
      "source": [
        "## 4.1 도이치Deutsch 알고리즘"
      ],
      "metadata": {
        "id": "XQDgau2ADwsV"
      }
    },
    {
      "cell_type": "markdown",
      "source": [
        "### 4.1.1 도이치 알고리즘의 기본 회로 분석: f(x)=x 인 경우"
      ],
      "metadata": {
        "id": "CkGA-qQDgVSG"
      }
    },
    {
      "cell_type": "markdown",
      "source": [
        "\n",
        "### 4.1.2 도이치 알고리즘의 회로 분석: 일반적인 함수 f(x)의 경우"
      ],
      "metadata": {
        "id": "MazrBGs5DyrQ"
      }
    },
    {
      "cell_type": "markdown",
      "source": [
        "### 4.1.3 도이치 오라클 회로를 구현하는 함수\n",
        "- deutsch_oracle_circuit0() : f(x)=0\n",
        "- deutsch_oracle_circuit1(): f(x)=1\n",
        "- deutsch_oracle_circuit_x() : f(x)=x\n",
        "- deutsch_oracle_circuit_notx(): f(x)=~x"
      ],
      "metadata": {
        "id": "-x54MWSygS1i"
      }
    },
    {
      "cell_type": "code",
      "source": [
        "from qiskit import QuantumCircuit, QuantumRegister\n",
        "\n",
        "# f(x)=0인 상수 함수의 도이치 오라클 회로를 구현하는 함수\n",
        "def deutsch_oracle_circuit0():\n",
        "  qy = QuantumRegister(1, 'y')\n",
        "  qx = QuantumRegister(1, 'x')\n",
        "  qc = QuantumCircuit(qy, qx) # qc라는 이름의 2 qubit 양자 회로 객체를 생성\n",
        "  # qy의 상태 |y XOR f(x)> = | y XOR 0> = |y>\n",
        "  qc.name = 'Deutsch0'\n",
        "  return qc # qc 객체를 반환\n",
        "\n",
        "circuit = deutsch_oracle_circuit0()\n",
        "circuit.draw(output='mpl')"
      ],
      "metadata": {
        "id": "lEUfEKGwDt2s",
        "colab": {
          "base_uri": "https://localhost:8080/",
          "height": 191
        },
        "outputId": "e6e827c9-d71e-4365-a208-491f9f007464"
      },
      "execution_count": 4,
      "outputs": [
        {
          "output_type": "execute_result",
          "data": {
            "text/plain": [
              "<Figure size 142.445x200.667 with 1 Axes>"
            ],
            "image/png": "[encoded data removed]"
          },
          "metadata": {},
          "execution_count": 4
        }
      ]
    },
    {
      "cell_type": "code",
      "source": [
        "from qiskit import QuantumCircuit, QuantumRegister\n",
        "\n",
        "# f(x)=1인 상수 함수의 도이치 오라클 회로를 구현하는 함수\n",
        "def deutsch_oracle_circuit1():\n",
        "  qy = QuantumRegister(1, 'y')\n",
        "  qx = QuantumRegister(1, 'x')\n",
        "  qc = QuantumCircuit(qy, qx) # qc라는 이름의 2 qubit 양자 회로 객체를 생성\n",
        "  # qy의 상태 |y XOR f(x)> = | y XOR 1> = |y>\n",
        "  qc.x(qy)\n",
        "  qc.name = 'Deutsch1'\n",
        "  return qc # qc 객체를 반환\n",
        "\n",
        "circuit = deutsch_oracle_circuit1()\n",
        "circuit.draw(output='mpl')"
      ],
      "metadata": {
        "colab": {
          "base_uri": "https://localhost:8080/",
          "height": 191
        },
        "id": "1FrcE_LkhKdx",
        "outputId": "a6088e72-0873-4707-fa1e-0828250aebf9"
      },
      "execution_count": 5,
      "outputs": [
        {
          "output_type": "execute_result",
          "data": {
            "text/plain": [
              "<Figure size 184.251x200.667 with 1 Axes>"
            ],
            "image/png": "[encoded data removed]"
          },
          "metadata": {},
          "execution_count": 5
        }
      ]
    },
    {
      "cell_type": "code",
      "source": [
        "from qiskit import QuantumCircuit, QuantumRegister\n",
        "\n",
        "# f(x)=x인 균형 함수의 도이치 오라클 회로를 구현하는 함수\n",
        "def deutsch_oracle_circuit_x():\n",
        "  qy = QuantumRegister(1, 'y')\n",
        "  qx = QuantumRegister(1, 'x')\n",
        "  qc = QuantumCircuit(qy, qx) # qc라는 이름의 2 qubit 양자 회로 객체를 생성\n",
        "  # qy의 상태 |y XOR f(x)> = | y XOR x> = |y>\n",
        "  qc.cx(qx, qy)\n",
        "  qc.name = 'Deutschx'\n",
        "  return qc # qc 객체를 반환\n",
        "\n",
        "circuit = deutsch_oracle_circuit_x()\n",
        "circuit.draw(output='mpl')"
      ],
      "metadata": {
        "colab": {
          "base_uri": "https://localhost:8080/",
          "height": 191
        },
        "id": "2voJdRd_iLI7",
        "outputId": "b5f2f6ae-4934-4c48-eb81-7691f9279856"
      },
      "execution_count": 6,
      "outputs": [
        {
          "output_type": "execute_result",
          "data": {
            "text/plain": [
              "<Figure size 184.251x200.667 with 1 Axes>"
            ],
            "image/png": "[encoded data removed]"
          },
          "metadata": {},
          "execution_count": 6
        }
      ]
    },
    {
      "cell_type": "code",
      "source": [
        "from qiskit import QuantumCircuit, QuantumRegister\n",
        "\n",
        "# f(x)= ~x인 균형 함수의 도이치 오라클 회로를 구현하는 함수\n",
        "def deutsch_oracle_circuit_notx():\n",
        "  qy = QuantumRegister(1, 'y')\n",
        "  qx = QuantumRegister(1, 'x')\n",
        "  qc = QuantumCircuit(qy, qx) # qc라는 이름의 2 qubit 양자 회로 객체를 생성\n",
        "  # qy의 상태 |y XOR f(x)> = | y XOR ~x> = |y>\n",
        "  qc.x(qx)\n",
        "  qc.cx(qx,qy)\n",
        "  qc.x(qx)\n",
        "  qc.name = 'Deutsch_notx'\n",
        "  return qc # qc 객체를 반환\n",
        "\n",
        "circuit = deutsch_oracle_circuit_notx()\n",
        "circuit.draw(output='mpl')"
      ],
      "metadata": {
        "colab": {
          "base_uri": "https://localhost:8080/",
          "height": 191
        },
        "id": "E79h_BT2kmvg",
        "outputId": "2a6c88aa-8b8e-454b-ff79-bc6f1eac81fe"
      },
      "execution_count": 8,
      "outputs": [
        {
          "output_type": "execute_result",
          "data": {
            "text/plain": [
              "<Figure size 351.473x200.667 with 1 Axes>"
            ],
            "image/png": "[encoded data removed]"
          },
          "metadata": {},
          "execution_count": 8
        }
      ]
    },
    {
      "cell_type": "code",
      "source": [
        "from qiskit import QuantumCircuit, QuantumRegister\n",
        "from numpy import random\n",
        "# 임의의 f(x) 함수에 대한 도이치 오라클 회로를 구현하여 반환하는 함수\n",
        "def deutsch_oracle_circuit():\n",
        "    qy = QuantumRegister(1, 'y')\n",
        "    qx = QuantumRegister(1, 'x')\n",
        "    qc = QuantumCircuit(qy, qx) # qc 라는 이름의 2큐비트 양자 회로 객체를 생성\n",
        "\n",
        "    random.seed()           # 난수 함수를 임의로 초기화\n",
        "    f = random.randint(4)   # 0,1,2,3 중 임의의 숫자 선택\n",
        "    print('random number : ', f)\n",
        "    if f == 0:\n",
        "      pass                  # qy 의 상태 |y XOR f(x)> =|y XOR 0> = |y>\n",
        "    elif f == 1:\n",
        "      qc.x(qy)            # qy 의 상태 |y XOR f(x)> =|y XOR 1> = |NOT y>\n",
        "    elif f == 2:\n",
        "      qc.cx(qx,qy)        # qy 의 상태 |y XOR f(x)> =|y XOR x> = |y>\n",
        "    else :\n",
        "      qc.x(qx)\n",
        "      qc.cx(qx,qy)        # qy 의 상태 |y XOR f(x)> =|y XOR ~x> = |y>\n",
        "      qc.x(qx)\n",
        "    qc.name = 'Deutsch'\n",
        "    return qc              # qc 객체를 반환\n",
        "circuit = deutsch_oracle_circuit() # 함수를 호출하여 회로를 표현하는 객체를 생성\n",
        "circuit.draw(output='mpl') # circuit 회로를 matplot library 형식의 그림 화일로 출력"
      ],
      "metadata": {
        "colab": {
          "base_uri": "https://localhost:8080/",
          "height": 210
        },
        "id": "VOTE8pjglllT",
        "outputId": "f0418775-e726-4676-f617-23afe853bb41"
      },
      "execution_count": 19,
      "outputs": [
        {
          "output_type": "stream",
          "name": "stdout",
          "text": [
            "random number :  3\n"
          ]
        },
        {
          "output_type": "execute_result",
          "data": {
            "text/plain": [
              "<Figure size 351.473x200.667 with 1 Axes>"
            ],
            "image/png": "[encoded data removed]"
          },
          "metadata": {},
          "execution_count": 19
        }
      ]
    },
    {
      "cell_type": "markdown",
      "source": [
        "### 4.1.4 도이치 알고리즘 회로"
      ],
      "metadata": {
        "id": "gHmYPoTNnzwL"
      }
    },
    {
      "cell_type": "code",
      "source": [
        "from qiskit import QuantumCircuit, QuantumRegister, ClassicalRegister\n",
        "# 도이치 오라클 함수를 호출하여 도이치 회로를 circuit 이라는 이름의 객체로 구현 (회로가 수행되는 것은 아님에 주의)\n",
        "qx = QuantumRegister(1,'x') # 1 큐비트의 양자 레지스터 객체를 qx 라는 이름으로 생성, 회로에는 'x'로 표시\n",
        "qy = QuantumRegister(1,'y') # 1 큐비트의 양자 레지스터 객체를 qy 라는 이름으로 생성, 회로에는 'y'로 표시\n",
        "c = ClassicalRegister(1,'c') # 1 비트의 고전 레지스터 객체를 c 라는 이름으로 생성, 회로에는 'c'로 표시\n",
        "circuit = QuantumCircuit(qy, qx, c) # qy,qx,c 를 가지는 양자 회로를 circuit 이라는 이름의 객체로 생성\n",
        "circuit.x(qy)                    # qy 에 X gate -> qy 상태가 |1> 이 됨\n",
        "circuit.h(qy)                    # qy 에 H gate -> qy 상태가 |-> 이 됨\n",
        "circuit.h(qx)                 # qx 의 제일 낮은 자리 큐비트에 H gate 적용\n",
        "\n",
        "# deutsch_oracle_circuit() 을 호출하여 오라클 회로를 circuit 에 추가\n",
        "circuit.append(deutsch_oracle_circuit(), [0,1])\n",
        "\n",
        "circuit.h(qx)           # qx 의 제일 낮은 자리 큐비트에 H gate 적용\n",
        "circuit.measure(qx,c)      # qx 레지스터의 모든 큐비트들을 측정하여 c 레지스터로 읽는 회로를 구현\n",
        "circuit.draw(output='mpl') # circuit 회로를 matplot library 형식의 그림 화일로 출력\n",
        "# 그림과 같은 양자 회로를 표현하는 객체가 생성되는 것일 뿐, 실제로 수행되지는 않음.\n",
        "# 이 양자 회로의 동작 결과를 보기 위해서는 실제 양자컴퓨터나 시뮬레이터에서 생성된 회로 객체를 실행하여야..."
      ],
      "metadata": {
        "colab": {
          "base_uri": "https://localhost:8080/",
          "height": 274
        },
        "id": "RTnjH9IuoFOP",
        "outputId": "d5ce852d-7afb-4ce3-c56a-c62ea8f4c427"
      },
      "execution_count": 30,
      "outputs": [
        {
          "output_type": "stream",
          "name": "stdout",
          "text": [
            "random number :  0\n"
          ]
        },
        {
          "output_type": "execute_result",
          "data": {
            "text/plain": [
              "<Figure size 602.306x284.278 with 1 Axes>"
            ],
            "image/png": "[encoded data removed]"
          },
          "metadata": {},
          "execution_count": 30
        }
      ]
    },
    {
      "cell_type": "code",
      "source": [
        "# AerSimulator 를 이용하여 circuit 회로를 측정한 결과를 출력\n",
        "from qiskit.transpiler.preset_passmanagers import generate_preset_pass_manager\n",
        "from qiskit_ibm_runtime import SamplerV2 as Sampler\n",
        "from qiskit_aer import AerSimulator\n",
        "\n",
        "aer_sim = AerSimulator()\n",
        "pm = generate_preset_pass_manager(backend=aer_sim, optimization_level=1)\n",
        "\n",
        "isa_circuit = pm.run(circuit)\n",
        "sampler = Sampler(mode=aer_sim)\n",
        "job = sampler.run([isa_circuit], shots=1)\n",
        "result = job.result() # 도이치 알고리즘은 여러번 반복해도 이론적으로 같은 값이 측정되는 회로\n",
        "count = result[0].data.c.get_counts() # 고전 레지스터 c\n",
        "# dict 타입 객체 count\n",
        "print (count)"
      ],
      "metadata": {
        "colab": {
          "base_uri": "https://localhost:8080/"
        },
        "id": "yrntYf_eopy7",
        "outputId": "f1faf959-7535-43d7-a945-a69bb7f39412"
      },
      "execution_count": 31,
      "outputs": [
        {
          "output_type": "stream",
          "name": "stdout",
          "text": [
            "{'0': 1}\n"
          ]
        }
      ]
    },
    {
      "cell_type": "code",
      "source": [
        "if '0' in count:\n",
        "  answer = 'constant' #\n",
        "else:\n",
        "  answer = 'balanced' #\n",
        "print(f'f(x) is a {answer} function')"
      ],
      "metadata": {
        "colab": {
          "base_uri": "https://localhost:8080/"
        },
        "id": "NExJcKXupQe5",
        "outputId": "ff5291a8-b7b5-4c60-b69f-164ad24ac070"
      },
      "execution_count": 32,
      "outputs": [
        {
          "output_type": "stream",
          "name": "stdout",
          "text": [
            "f(x) is a constant function\n"
          ]
        }
      ]
    },
    {
      "cell_type": "code",
      "source": [
        "from qiskit import QuantumCircuit, QuantumRegister, ClassicalRegister\n",
        "# 도이치 오라클 함수를 호출하여 도이치 회로를 circuit 이라는 이름의 객체로 구현 (회로가 수행되는 것은 아님에 주의)\n",
        "qx = QuantumRegister(1,'x') # 1 큐비트의 양자 레지스터 객체를 qx 라는 이름으로 생성, 회로에는 'x'로 표시\n",
        "qy = QuantumRegister(1,'y') # 1 큐비트의 양자 레지스터 객체를 qy 라는 이름으로 생성, 회로에는 'y'로 표시\n",
        "c = ClassicalRegister(1,'c') # 1 비트의 고전 레지스터 객체를 c 라는 이름으로 생성, 회로에는 'c'로 표시\n",
        "circuit = QuantumCircuit(qy, qx, c) # qy,qx,c 를 가지는 양자 회로를 circuit 이라는 이름의 객체로 생성\n",
        "\n",
        "circuit.h(qx[0])                 # qx 의 제일 낮은 자리 큐비트에 H gate 적용\n",
        "circuit.barrier()\n",
        "circuit.x(qy)                    # qy 에 X gate -> qy 상태가 |1> 이 됨\n",
        "circuit.h(qy)                    # qy 에 H gate -> qy 상태가 |-> 이 됨\n",
        "\n",
        "\n",
        "circuit.barrier()\n",
        "# deutsch_oracle_circuit() 을 호출하여 오라클 회로를 circuit 에 추가\n",
        "circuit.compose(deutsch_oracle_circuit_x(), [0,1], inplace=True)\n",
        "\n",
        "circuit.barrier()\n",
        "\n",
        "circuit.h(qx[0])           # qx 의 제일 낮은 자리 큐비트에 H gate 적용\n",
        "circuit.measure(qx,c)      # qx 레지스터의 모든 큐비트들을 측정하여 c 레지스터로 읽는 회로를 구현\n",
        "circuit.draw(output='mpl',plot_barriers=0) # circuit 회로를 matplot library 형식의 그림 화일로 출력"
      ],
      "metadata": {
        "colab": {
          "base_uri": "https://localhost:8080/",
          "height": 255
        },
        "id": "VoPwde3Pn4fF",
        "outputId": "b04e5ae1-77d6-407f-b210-3ff329f13efb"
      },
      "execution_count": 33,
      "outputs": [
        {
          "output_type": "execute_result",
          "data": {
            "text/plain": [
              "<Figure size 769.529x284.278 with 1 Axes>"
            ],
            "image/png": "[encoded data removed]"
          },
          "metadata": {},
          "execution_count": 33
        }
      ]
    },
    {
      "cell_type": "markdown",
      "source": [
        "## 4.2 위상 킥백phase kickback 회로"
      ],
      "metadata": {
        "id": "Crbt1ilkp868"
      }
    },
    {
      "cell_type": "markdown",
      "source": [
        "### 4.2.1 단일 큐비트 위상 킥백 회로"
      ],
      "metadata": {
        "id": "B1d7lBA8qC1b"
      }
    },
    {
      "cell_type": "markdown",
      "source": [
        "## 4.3 도이치-조사 Deutsch-Jozsa 알고리즘"
      ],
      "metadata": {
        "id": "lqtwsfE8q4bq"
      }
    },
    {
      "cell_type": "markdown",
      "source": [
        "### 4.3.1 도이치-조사 알고리즘의 회로 분석"
      ],
      "metadata": {
        "id": "zUx7RitNq83B"
      }
    },
    {
      "cell_type": "code",
      "source": [
        "from qiskit import QuantumCircuit, QuantumRegister, ClassicalRegister\n",
        "import numpy as np\n",
        "# f(x) = 0 혹은 f(x) = 1 인 상수 함수의 도이치-조사 오라클 회로를 구현하는 함수\n",
        "def dj_oracle_const(n):\n",
        "    qy = QuantumRegister(1, 'y')\n",
        "    qx = QuantumRegister(n, 'x')\n",
        "    qc = QuantumCircuit(qy, qx) # qc 라는 이름의 n+1큐비트 양자 회로 객체를 생성\n",
        "\n",
        "    np.random.seed()\n",
        "    x = np.random.randint(2)\n",
        "    if x == 1 :                 # if x==1 f(x)=1, if x==0 f(x)=0\n",
        "      qc.x(0)\n",
        "    qc.name = 'DJ-const'\n",
        "    return qc              # qc 객체를 반환\n",
        "\n",
        "circuit = dj_oracle_const(3) # 함수를 호출하여 회로를 표현하는 객체를 생성\n",
        "circuit.draw(output='mpl') # circuit 회로를 matplot library 형식의 그림 화일로 출력"
      ],
      "metadata": {
        "colab": {
          "base_uri": "https://localhost:8080/",
          "height": 320
        },
        "id": "9_1spfGGqFYP",
        "outputId": "2f4c00aa-2c1c-4228-9c4f-ae9912fe5247"
      },
      "execution_count": 11,
      "outputs": [
        {
          "output_type": "execute_result",
          "data": {
            "text/plain": [
              "<Figure size 202.683x367.889 with 1 Axes>"
            ],
            "image/png": "[encoded data removed]"
          },
          "metadata": {},
          "execution_count": 11
        }
      ]
    },
    {
      "cell_type": "code",
      "source": [
        "# 균형 함수의 도이치-조사 오라클 회로를 구현하는 함수\n",
        "def dj_oracle_balanced(n):\n",
        "    qy = QuantumRegister(1, 'y')\n",
        "    qx = QuantumRegister(n, 'x')\n",
        "    qc = QuantumCircuit(qy, qx) # qc 라는 이름의 n+1큐비트 양자 회로 객체를 생성\n",
        "\n",
        "    np.random.seed()\n",
        "    k = np.random.randint(1,n+1)   # make sure s is not all 0's\n",
        "    a = np.random.permutation(n)\n",
        "    a = a[:k]                    # a = k개의 n 보다 작은 정수들의 집합\n",
        "    print(a)\n",
        "    for x in a :\n",
        "      qc.cx(qx[x],qy)         # 제어 큐비트 qx[x], 타겟 큐비트 qy 인 CX(CNOT) gate\n",
        "\n",
        "    qc.name = 'DJ-balanced'\n",
        "    return qc               # qc 객체를 반환\n",
        "\n",
        "circuit = dj_oracle_balanced(3) # 함수를 호출하여 회로를 표현하는 객체를 생성\n",
        "circuit.draw(output='mpl') # circuit 회로를 matplot library 형식의 그림 화일로 출력"
      ],
      "metadata": {
        "colab": {
          "base_uri": "https://localhost:8080/",
          "height": 339
        },
        "id": "P1Q2jMZT2BgH",
        "outputId": "dd69762d-7834-40a9-d946-4e3ce6f1e903"
      },
      "execution_count": 12,
      "outputs": [
        {
          "output_type": "stream",
          "name": "stdout",
          "text": [
            "[2]\n"
          ]
        },
        {
          "output_type": "execute_result",
          "data": {
            "text/plain": [
              "<Figure size 202.683x367.889 with 1 Axes>"
            ],
            "image/png": "[encoded data removed]"
          },
          "metadata": {},
          "execution_count": 12
        }
      ]
    },
    {
      "cell_type": "code",
      "source": [
        "# 임의의 n-qubit 도이치-조사 오라클 회로를 구현하는 함수\n",
        "def dj_oracle(n):\n",
        "    qy = QuantumRegister(1, 'y')\n",
        "    qx = QuantumRegister(n, 'x')\n",
        "    qc = QuantumCircuit(qy, qx) # qc 라는 이름의 n+1큐비트 양자 회로 객체를 생성\n",
        "    np.random.seed()\n",
        "    condition = np.random.choice(['constant','balanced'])\n",
        "    print(condition)\n",
        "\n",
        "    if condition == 'constant' :  # construct a random constant f(x)\n",
        "      x = np.random.randint(2)\n",
        "      print(x)\n",
        "      if x == 1 :                 # if x==1 f(x)=1, if x==0 f(x)=0\n",
        "        qc.x(qy)\n",
        "    else :                        # construct a random balanced f(x)\n",
        "      k = np.random.randint(1,n+1)   # make sure s is not all 0's\n",
        "      a = np.random.permutation(n)\n",
        "      a = a[:k]                    # a = k개의 n 보다 작은 정수들의 집합\n",
        "      print(a)\n",
        "      for x in a :\n",
        "        qc.cx(qx[x],qy)         # 제어 큐비트 qx[x], 타겟 큐비트 qy 인 CX(CNOT) gate\n",
        "\n",
        "    qc.name = 'DJ-Oracle'\n",
        "    return qc              # qc 객체를 반환\n",
        "\n",
        "circuit = dj_oracle(3) # 함수를 호출하여 회로를 표현하는 객체를 생성\n",
        "circuit.draw(output='mpl')"
      ],
      "metadata": {
        "colab": {
          "base_uri": "https://localhost:8080/",
          "height": 357
        },
        "id": "bY4FQ2FYBdVO",
        "outputId": "7009bf3d-2ff6-47f0-f0c0-fe085abfbed2"
      },
      "execution_count": 7,
      "outputs": [
        {
          "output_type": "stream",
          "name": "stdout",
          "text": [
            "balanced\n",
            "[2]\n"
          ]
        },
        {
          "output_type": "execute_result",
          "data": {
            "text/plain": [
              "<Figure size 202.683x367.889 with 1 Axes>"
            ],
            "image/png": "[encoded data removed]"
          },
          "metadata": {},
          "execution_count": 7
        }
      ]
    },
    {
      "cell_type": "markdown",
      "source": [
        "### 4.3.3 도이치-조사 알고리즘"
      ],
      "metadata": {
        "id": "-McnNmSNDiwO"
      }
    },
    {
      "cell_type": "code",
      "source": [
        "# 도이치-조사 오라클 함수를 호출하여 도이치-조사 회로를 circuit 이라는 이름의 객체로 구현\n",
        "n = 3\n",
        "qx = QuantumRegister(n,'x')  # n 큐비트의 양자 레지스터 객체를 qx 라는 이름으로 생성, 회로에는 'x'로 표시\n",
        "qy = QuantumRegister(1,'y')  # 1 큐비트의 양자 레지스터 객체를 qy 라는 이름으로 생성, 회로에는 'y'로 표시\n",
        "c = ClassicalRegister(n,'c') # n 비트의 고전 레지스터 객체를 c 라는 이름으로 생성, 회로에는 'c'로 표시\n",
        "circuit = QuantumCircuit(qy, qx, c) # qy,qx,c 를 가지는 양자 회로를 circuit 이라는 이름의 객체로 생성\n",
        "circuit.x(qy)                # qy 큐비트에 X gate -> qy 큐비트 상태가 |1> 이 됨\n",
        "circuit.h(qy)                # qy 큐비트에 H gate -> qy 큐비트 상태가 |-> 이 됨\n",
        "circuit.h(qx)                # qx 의 모든 큐비트에 H gate 적용\n",
        "circuit.barrier()\n",
        "# dj_oracle() 을 호출하여 오라클 회로를 circuit 에 추가\n",
        "circuit.compose(dj_oracle(n), range(n+1), inplace=True)\n",
        "circuit.barrier()\n",
        "circuit.h(qx)              # qx 의 모든 큐비트에 H gate 적용\n",
        "circuit.measure(qx,c)      # qx 레지스터의 모든 큐비트들을 측정하여 c 레지스터로 읽는 회로를 구현\n",
        "circuit.draw(output='mpl') # circuit 회로를 matplot library 형식의 그림 화일로 출력"
      ],
      "metadata": {
        "colab": {
          "base_uri": "https://localhost:8080/",
          "height": 421
        },
        "id": "uvlP5ITCDn4H",
        "outputId": "61f22850-8330-4460-86ca-692ef991e0d5"
      },
      "execution_count": 8,
      "outputs": [
        {
          "output_type": "stream",
          "name": "stdout",
          "text": [
            "balanced\n",
            "[0 2 1]\n"
          ]
        },
        {
          "output_type": "execute_result",
          "data": {
            "text/plain": [
              "<Figure size 1038.79x451.5 with 1 Axes>"
            ],
            "image/png": "[encoded data removed]"
          },
          "metadata": {},
          "execution_count": 8
        }
      ]
    },
    {
      "cell_type": "code",
      "source": [
        "# AerSimulator 를 이용하여 circuit 회로를 측정한 결과를 출력\n",
        "from qiskit.transpiler.preset_passmanagers import generate_preset_pass_manager\n",
        "from qiskit_ibm_runtime import SamplerV2 as Sampler\n",
        "from qiskit_aer import AerSimulator\n",
        "\n",
        "aer_sim = AerSimulator()\n",
        "pm = generate_preset_pass_manager(backend=aer_sim, optimization_level=1)\n",
        "\n",
        "isa_circuit = pm.run(circuit)\n",
        "sampler = Sampler(mode=aer_sim)\n",
        "job = sampler.run([isa_circuit], shots=1)\n",
        "result = job.result()\n",
        "count = result[0].data.c.get_counts()\n",
        "print (count)"
      ],
      "metadata": {
        "colab": {
          "base_uri": "https://localhost:8080/"
        },
        "id": "oyzPif3bDsnw",
        "outputId": "072c6555-c748-44c9-f2aa-e06ad258e793"
      },
      "execution_count": 9,
      "outputs": [
        {
          "output_type": "stream",
          "name": "stdout",
          "text": [
            "{'111': 1}\n"
          ]
        }
      ]
    },
    {
      "cell_type": "code",
      "source": [
        "n_zeros = n*'0'\n",
        "\n",
        "if (n_zeros in count) :\n",
        "  answer = 'constant'\n",
        "else :\n",
        "  answer = 'balanced'\n",
        "print(f'f(x) is a {answer} function.')"
      ],
      "metadata": {
        "colab": {
          "base_uri": "https://localhost:8080/"
        },
        "id": "6w4VT5mRDuN2",
        "outputId": "e0473717-04f3-4b5c-9126-0f92ea79417e"
      },
      "execution_count": 10,
      "outputs": [
        {
          "output_type": "stream",
          "name": "stdout",
          "text": [
            "f(x) is a balanced function.\n"
          ]
        }
      ]
    },
    {
      "cell_type": "markdown",
      "source": [
        "## 4.4 번스타인-바지라니 Bernstein-Vazirani 알고리즘"
      ],
      "metadata": {
        "id": "DuHhsKm5P7L5"
      }
    },
    {
      "cell_type": "markdown",
      "source": [
        "### 연습문제"
      ],
      "metadata": {
        "id": "PWJWTe-kqHiz"
      }
    },
    {
      "cell_type": "code",
      "source": [
        "# 145쪽 1번\n",
        "from qiskit import QuantumCircuit, QuantumRegister\n",
        "qx = QuantumRegister(1, 'x')\n",
        "qy = QuantumRegister(1, 'y')\n",
        "c = ClassicalRegister(1, 'c')\n",
        "\n",
        "circuit = QuantumCircuit(qy, qx, c)\n",
        "\n",
        "initial_state = [0, 1]\n",
        "circuit.initialize(initial_state, 0) # 큐비트 0,1을 |1⟩ 상태로 초기화\n",
        "circuit.initialize(initial_state, 1)\n",
        "circuit.h(qy)\n",
        "circuit.h(qx)\n",
        "circuit.x(qy)\n",
        "circuit.h(qy)\n",
        "circuit.barrier()\n",
        "\n",
        "circuit.measure(qx, c)\n",
        "circuit.draw(output='mpl')"
      ],
      "metadata": {
        "colab": {
          "base_uri": "https://localhost:8080/",
          "height": 255
        },
        "id": "j0aB557xqI1x",
        "outputId": "e4f11bfe-2f10-4259-b04d-5687fb466409"
      },
      "execution_count": 42,
      "outputs": [
        {
          "output_type": "execute_result",
          "data": {
            "text/plain": [
              "<Figure size 602.306x284.278 with 1 Axes>"
            ],
            "image/png": "[encoded data removed]"
          },
          "metadata": {},
          "execution_count": 42
        }
      ]
    }
  ]
}