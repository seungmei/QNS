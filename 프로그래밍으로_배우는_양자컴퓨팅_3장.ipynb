{
  "nbformat": 4,
  "nbformat_minor": 0,
  "metadata": {
    "colab": {
      "provenance": [],
      "authorship_tag": "ABX9TyMuU3czRJuZQt43LUYjwsX3",
      "include_colab_link": true
    },
    "kernelspec": {
      "name": "python3",
      "display_name": "Python 3"
    },
    "language_info": {
      "name": "python"
    }
  },
  "cells": [
    {
      "cell_type": "markdown",
      "metadata": {
        "id": "view-in-github",
        "colab_type": "text"
      },
      "source": [
        "<a href=\"https://colab.research.google.com/github/seungmei/QNS/blob/main/%ED%94%84%EB%A1%9C%EA%B7%B8%EB%9E%98%EB%B0%8D%EC%9C%BC%EB%A1%9C_%EB%B0%B0%EC%9A%B0%EB%8A%94_%EC%96%91%EC%9E%90%EC%BB%B4%ED%93%A8%ED%8C%85_3%EC%9E%A5.ipynb\" target=\"_parent\"><img src=\"https://colab.research.google.com/assets/colab-badge.svg\" alt=\"Open In Colab\"/></a>"
      ]
    },
    {
      "cell_type": "markdown",
      "source": [
        "# 3. 양자 상태와 유니터리 변환"
      ],
      "metadata": {
        "id": "VvtrDYFK2pHk"
      }
    },
    {
      "cell_type": "markdown",
      "source": [
        "## 3.1 디락의 브라-켓(Bra-Ket) 표기법\n",
        "- Hilbert space에서의 scalar는 complex number"
      ],
      "metadata": {
        "id": "BYR_Dj706gB6"
      }
    },
    {
      "cell_type": "markdown",
      "source": [
        "## 3.2 선형성과 벡터공간\n",
        "- Hilbert 공간 V의 임의의 두원소 |v1⟩, |v2⟩ 를 복소수 스칼라 z1, z2를 사용하여 선형결합하면 V의 또다른 원소가 된다. ==> z1|v1⟩ + z2|v2⟩은 Hilbert space V의 원소가 됨.\n",
        "- 서로 다른 벡터의 선형결합은 양자 상태의 중첩에 해당."
      ],
      "metadata": {
        "id": "5ikVnHkU62sj"
      }
    },
    {
      "cell_type": "markdown",
      "source": [
        "### 3.2.1 벡터의 내적inner product와 직교성orthogonality"
      ],
      "metadata": {
        "id": "mrnKKFwy7a6J"
      }
    },
    {
      "cell_type": "markdown",
      "source": [
        "### 3.2.2 선형 독립과 기저 벡터Basis vectors\n",
        "- |vi⟩=sigma Uji|wj⟩ (Uji = ⟨wj|vi⟩)"
      ],
      "metadata": {
        "id": "fZ_9VyMZ9nOh"
      }
    },
    {
      "cell_type": "markdown",
      "source": [
        "### 3.2.3 벡터의 행렬 표현 Matrix Representation"
      ],
      "metadata": {
        "id": "DsYqlsHr98sQ"
      }
    },
    {
      "cell_type": "markdown",
      "source": [
        "### 3.2.4 기저 변환 Change of Basis"
      ],
      "metadata": {
        "id": "8FdlnBZF-OHp"
      }
    },
    {
      "cell_type": "markdown",
      "source": [
        "## 3.3 선형 연산자 Linear Operators"
      ],
      "metadata": {
        "id": "yCYZCIta_W3j"
      }
    },
    {
      "cell_type": "markdown",
      "source": [
        "### 3.3.1 선형 연산자의 행렬 표현"
      ],
      "metadata": {
        "id": "pHAwUcOOAdpQ"
      }
    },
    {
      "cell_type": "markdown",
      "source": [
        "### 3.3.2 유사 변환Similarity Transformation"
      ],
      "metadata": {
        "id": "V06mDTJ1CykO"
      }
    },
    {
      "cell_type": "markdown",
      "source": [
        "### 3.3.3 연산자의 에르미트 켤레 Hermitian Conjugate"
      ],
      "metadata": {
        "id": "2gVU4nqoMviI"
      }
    },
    {
      "cell_type": "markdown",
      "source": [
        "### 3.3.4 에르미트 연산자 Hermitian Operator"
      ],
      "metadata": {
        "id": "Oxa54OLtQUUI"
      }
    },
    {
      "cell_type": "markdown",
      "source": [
        "### 3.3.5 유니터리 연산자 Unitary Operator"
      ],
      "metadata": {
        "id": "W9RoO2smWQUN"
      }
    },
    {
      "cell_type": "markdown",
      "source": [
        "### 3.3.6 정규직교 기저 Orthonormal Basis의 성질"
      ],
      "metadata": {
        "id": "gPu3KekOWVjV"
      }
    },
    {
      "cell_type": "markdown",
      "source": [
        "## 3.4 고유값 eigenvalue 과 고유벡터 eigenvector"
      ],
      "metadata": {
        "id": "reWyHlLJXi7X"
      }
    },
    {
      "cell_type": "markdown",
      "source": [
        "### 3.4.1 유니터리 연산자의 고유값과 고유벡터"
      ],
      "metadata": {
        "id": "1SgQbHNrXmWD"
      }
    },
    {
      "cell_type": "markdown",
      "source": [
        "### 3.4.2 에르미트 연산자의 고윳값과 고유벡터"
      ],
      "metadata": {
        "id": "hnJSffVvXtVf"
      }
    },
    {
      "cell_type": "markdown",
      "source": [
        "## 3.5 벡터 공간의 텐서 프로덕트 Tensor Product Spaces"
      ],
      "metadata": {
        "id": "eYvt59HvqNtl"
      }
    },
    {
      "cell_type": "markdown",
      "source": [
        "### 3.5.1 프러덕트 공간의 벡터"
      ],
      "metadata": {
        "id": "kDwzN0zEqiEB"
      }
    },
    {
      "cell_type": "markdown",
      "source": [
        "### 3.5.2 프러덕트 공간의 연산자"
      ],
      "metadata": {
        "id": "fjiMRLontX6f"
      }
    },
    {
      "cell_type": "markdown",
      "source": [
        "### 3.5.3 행렬의 크로네커 곱  Kronecher Product"
      ],
      "metadata": {
        "id": "68_KNehMt91r"
      }
    },
    {
      "cell_type": "markdown",
      "source": [
        "## 3.6 양자역학의 기본체계"
      ],
      "metadata": {
        "id": "8YEvsvI2uHVT"
      }
    },
    {
      "cell_type": "markdown",
      "source": [
        "### 3.6.1 계 system의 양자 상태"
      ],
      "metadata": {
        "id": "Fkvd6RbIuJa5"
      }
    },
    {
      "cell_type": "markdown",
      "source": [
        "### 3.6.3 양자 측정의 확률론적 해석과 상태 붕괴\n",
        "- 에르미트 연산자 A_hat 에 해당하는 물리량: ⟨A_hat⟩ = ⟨psi|A_hat|psi⟩"
      ],
      "metadata": {
        "id": "iIWObUHEuQBm"
      }
    },
    {
      "cell_type": "markdown",
      "source": [
        "### 3.6.3 양자 상태의 시간 진화 Time Evolution"
      ],
      "metadata": {
        "id": "nQ1HgKJHu19s"
      }
    },
    {
      "cell_type": "markdown",
      "source": [
        "## 3.7 2준위 양자계 two-level quantum systems: qubits"
      ],
      "metadata": {
        "id": "IeKMJcg6yp6r"
      }
    },
    {
      "cell_type": "markdown",
      "source": [
        "### 3.7.1 상태 벡터와 측정"
      ],
      "metadata": {
        "id": "cmStqRTayz1m"
      }
    },
    {
      "cell_type": "markdown",
      "source": [
        "### 3.7.2 정규직교 기저와 벡터의 행렬 표현"
      ],
      "metadata": {
        "id": "h7H7g_RG0J6N"
      }
    },
    {
      "cell_type": "markdown",
      "source": [
        "### 3.7.3 파울리 행렬의 성질\n",
        "- 파울리 행렬: 에르미트 행렬&유니터리 행렬"
      ],
      "metadata": {
        "id": "pGUIX5-e0X6f"
      }
    },
    {
      "cell_type": "markdown",
      "source": [
        "### 3.7.4 큐비트 상태의 기하학적 표현: 블로흐 구 Bloch sphere"
      ],
      "metadata": {
        "id": "rhxCC8kq0hCN"
      }
    },
    {
      "cell_type": "markdown",
      "source": [
        "### 3.7.5 큐비트 상태의 변환: 유니터리 연산 Unitary Operation"
      ],
      "metadata": {
        "id": "P2PFMzSu1aE-"
      }
    },
    {
      "cell_type": "markdown",
      "source": [
        "## 3.8 단일 큐비트 양자 게이트 Single-Qubit Quantum Gates"
      ],
      "metadata": {
        "id": "hvb3cS4v1zAb"
      }
    },
    {
      "cell_type": "markdown",
      "source": [
        "### 3.8.1 파울리 게이트 Pauli Gates"
      ],
      "metadata": {
        "id": "N314bRT216_A"
      }
    },
    {
      "cell_type": "markdown",
      "source": [
        "### 3.8.2 하다마드 게이트 Hadamard Gate or H gate"
      ],
      "metadata": {
        "id": "3wH4ocBS4Z8c"
      }
    },
    {
      "cell_type": "markdown",
      "source": [
        "### 3.8.3 위상-편이 게이트 Phase-shift gate : P(lambda)"
      ],
      "metadata": {
        "id": "jLLaRWm24hnP"
      }
    },
    {
      "cell_type": "markdown",
      "source": [
        "### 3.8.4 S, T 게이트"
      ],
      "metadata": {
        "id": "BDBmszWk4u96"
      }
    },
    {
      "cell_type": "markdown",
      "source": [
        "### 3.8.5 양자 게이트 항등식 Quantum Gate Identities"
      ],
      "metadata": {
        "id": "7gN9V69X5HSO"
      }
    },
    {
      "cell_type": "markdown",
      "source": [
        "## 3.9 다중 큐비트 게이트 Multi-qubit Gates"
      ],
      "metadata": {
        "id": "yG1eP7nQ5PmR"
      }
    },
    {
      "cell_type": "markdown",
      "source": [
        "### 3.9.1 CX 게이트 Controlled-NOT gate or CNOT gate"
      ],
      "metadata": {
        "id": "I95UhhsC5YUF"
      }
    },
    {
      "cell_type": "markdown",
      "source": [
        "### 3.9.2  CZ 게이트 Controlled-Z Gate"
      ],
      "metadata": {
        "id": "mXcdB2hr5g6S"
      }
    },
    {
      "cell_type": "markdown",
      "source": [
        "### 3.9.3 SWAP 게이트"
      ],
      "metadata": {
        "id": "ceJO8l8g6Fji"
      }
    },
    {
      "cell_type": "markdown",
      "source": [
        "### 3.9.4 CCX 게이트 혹은 CCNOT 게이트 Double-controlled X gate"
      ],
      "metadata": {
        "id": "C5A-pHIs6Mbf"
      }
    },
    {
      "cell_type": "markdown",
      "source": [
        "## 3.10 양자 범용 게이트 집합 Quantum Universal Gate Set"
      ],
      "metadata": {
        "id": "FY2cAXD-6Rx6"
      }
    },
    {
      "cell_type": "markdown",
      "source": [
        "## 3.11 양자 얽힘과 벨 상태 Quantum Entanglement and Bell States"
      ],
      "metadata": {
        "id": "TgiG5CtS6aez"
      }
    },
    {
      "cell_type": "markdown",
      "source": [
        "### 3.11.1 양자 얽힘"
      ],
      "metadata": {
        "id": "6nnoghkj61kx"
      }
    },
    {
      "cell_type": "markdown",
      "source": [
        "### 3.11.2 벨 상태 Bell states"
      ],
      "metadata": {
        "id": "5Sdfouyx6-gi"
      }
    },
    {
      "cell_type": "markdown",
      "source": [
        "## 3.12 양자 순간 이동 Quantum Teleportation"
      ],
      "metadata": {
        "id": "begztyqJ7PXD"
      }
    }
  ]
}